{
 "cells": [
  {
   "cell_type": "code",
   "execution_count": 1,
   "metadata": {},
   "outputs": [],
   "source": [
    "using Lale"
   ]
  },
  {
   "cell_type": "code",
   "execution_count": 2,
   "metadata": {},
   "outputs": [],
   "source": [
    "using Random\n",
    "using Statistics\n",
    "using Test\n",
    "using DataFrames: DataFrame, nrow\n",
    "using AutoMLPipeline: Utils"
   ]
  },
  {
   "cell_type": "code",
   "execution_count": 3,
   "metadata": {},
   "outputs": [],
   "source": [
    "iris = getiris();\n",
    "trx,tstx = holdout(nrow(iris),0.30)\n",
    "training = iris[trx,:]\n",
    "testing = iris[tstx,:];"
   ]
  },
  {
   "cell_type": "markdown",
   "metadata": {},
   "source": [
    "## AutoML for classifier pipeline\n",
    "\n",
    "This example uses Lale for combined algorithm selection and hyperparameter tuning\n",
    "on a classifier pipeline."
   ]
  },
  {
   "cell_type": "code",
   "execution_count": 4,
   "metadata": {},
   "outputs": [],
   "source": [
    "clf_tr_X = training[:,1:4] |> DataFrame\n",
    "clf_tr_y = training[:,5]   |> Vector\n",
    "clf_tst_X = testing[:,1:4] |> DataFrame\n",
    "clf_tst_y = testing[:,5] |> Vector;"
   ]
  },
  {
   "cell_type": "code",
   "execution_count": 5,
   "metadata": {},
   "outputs": [],
   "source": [
    "PCA = laleoperator(\"PCA\")\n",
    "RobustScaler = laleoperator(\"RobustScaler\")\n",
    "ConcatFeatures = laleoperator(\"ConcatFeatures\", \"lale\")\n",
    "LogisticRegression = laleoperator(\"LogisticRegression\")\n",
    "RandomForestClassifier = laleoperator(\"RandomForestClassifier\");"
   ]
  },
  {
   "cell_type": "code",
   "execution_count": 6,
   "metadata": {},
   "outputs": [],
   "source": [
    "clf_planned = (PCA & RobustScaler) >> ConcatFeatures >> (LogisticRegression | RandomForestClassifier);\n",
    "visualize(clf_planned);"
   ]
  },
  {
   "cell_type": "code",
   "execution_count": 7,
   "metadata": {},
   "outputs": [
    {
     "name": "stdout",
     "output_type": "stream",
     "text": [
      "\r",
      "  0%|                                   | 0/10 [00:00<?, ?trial/s, best loss=?]\r",
      " 10%|▊       | 1/10 [00:00<00:08,  1.11trial/s, best loss: -0.9333333333333332]\r",
      " 20%|█▌      | 2/10 [00:01<00:04,  1.74trial/s, best loss: -0.9333333333333332]\r",
      " 30%|██▍     | 3/10 [00:01<00:03,  2.01trial/s, best loss: -0.9333333333333332]\r",
      " 40%|███▏    | 4/10 [00:02<00:02,  2.19trial/s, best loss: -0.9333333333333332]\r",
      " 50%|████    | 5/10 [00:02<00:02,  1.94trial/s, best loss: -0.9333333333333332]\r",
      " 60%|████▊   | 6/10 [00:03<00:02,  1.82trial/s, best loss: -0.9333333333333332]\r",
      " 70%|█████▌  | 7/10 [00:03<00:01,  1.94trial/s, best loss: -0.9333333333333332]\r",
      " 80%|██████▍ | 8/10 [00:04<00:00,  2.11trial/s, best loss: -0.9619047619047619]\r",
      " 90%|███████▏| 9/10 [00:04<00:00,  2.26trial/s, best loss: -0.9619047619047619]\r",
      "100%|███████| 10/10 [00:04<00:00,  2.46trial/s, best loss: -0.9619047619047619]\r",
      "100%|███████| 10/10 [00:04<00:00,  2.08trial/s, best loss: -0.9619047619047619]"
     ]
    }
   ],
   "source": [
    "clf_hopt = LalePipeOptimizer(clf_planned, max_evals=10, cv=3)\n",
    "clf_trained = fit(clf_hopt, clf_tr_X, clf_tr_y);\n",
    "visualize(clf_trained)"
   ]
  },
  {
   "cell_type": "code",
   "execution_count": 8,
   "metadata": {},
   "outputs": [
    {
     "data": {
      "text/plain": [
       "97.77777777777777"
      ]
     },
     "execution_count": 8,
     "metadata": {},
     "output_type": "execute_result"
    }
   ],
   "source": [
    "#TODO: change to predict, not transform\n",
    "clf_pred = predict(clf_trained, clf_tst_X)\n",
    "clf_accu = score(:accuracy, clf_pred, clf_tst_y)"
   ]
  },
  {
   "cell_type": "markdown",
   "metadata": {},
   "source": [
    "## AutoML for regressor pipeline\n",
    "\n",
    "This example uses Lale for combined algorithm selection and hyperparameter tuning\n",
    "on a regressor pipeline."
   ]
  },
  {
   "cell_type": "code",
   "execution_count": 9,
   "metadata": {},
   "outputs": [],
   "source": [
    "reg_tr_X = training[:,1:3] |> DataFrame\n",
    "reg_tr_y = training[:,4]   |> Vector\n",
    "reg_tst_X = testing[:,1:3] |> DataFrame\n",
    "reg_tst_y = testing[:,4]   |> Vector;"
   ]
  },
  {
   "cell_type": "code",
   "execution_count": 10,
   "metadata": {},
   "outputs": [],
   "source": [
    "PCA = laleoperator(\"PCA\")\n",
    "NoOp = laleoperator(\"NoOp\", \"lale\")\n",
    "LinearRegression = laleoperator(\"LinearRegression\")\n",
    "RandomForestRegressor = laleoperator(\"RandomForestRegressor\");"
   ]
  },
  {
   "cell_type": "code",
   "execution_count": 11,
   "metadata": {},
   "outputs": [],
   "source": [
    "reg_planned = (PCA | NoOp) >> (LinearRegression | RandomForestRegressor);\n",
    "visualize(reg_planned)"
   ]
  },
  {
   "cell_type": "code",
   "execution_count": 12,
   "metadata": {},
   "outputs": [
    {
     "name": "stdout",
     "output_type": "stream",
     "text": [
      "\n",
      "\r",
      "  0%|                                   | 0/10 [00:00<?, ?trial/s, best loss=?]\r",
      " 10%|▉        | 1/10 [00:00<00:03,  2.52trial/s, best loss: -0.877020328341168]\r",
      " 20%|█▌      | 2/10 [00:00<00:02,  3.55trial/s, best loss: -0.9370994271945601]\r",
      " 30%|██▍     | 3/10 [00:00<00:01,  3.67trial/s, best loss: -0.9370994271945601]\r",
      " 40%|███▏    | 4/10 [00:01<00:01,  4.20trial/s, best loss: -0.9370994271945601]\r",
      " 50%|████    | 5/10 [00:01<00:01,  3.00trial/s, best loss: -0.9370994271945601]\r",
      " 60%|████▊   | 6/10 [00:02<00:01,  2.61trial/s, best loss: -0.9370994271945601]\r",
      " 70%|█████▌  | 7/10 [00:02<00:01,  2.94trial/s, best loss: -0.9370994271945601]\r",
      " 80%|██████▍ | 8/10 [00:02<00:00,  3.24trial/s, best loss: -0.9370994271945601]\r",
      " 90%|███████▏| 9/10 [00:02<00:00,  3.44trial/s, best loss: -0.9370994271945601]\r",
      "100%|███████| 10/10 [00:02<00:00,  3.96trial/s, best loss: -0.9370994271945601]\r",
      "100%|███████| 10/10 [00:02<00:00,  3.40trial/s, best loss: -0.9370994271945601]"
     ]
    }
   ],
   "source": [
    "reg_hopt = LalePipeOptimizer(reg_planned, max_evals=10, cv=3)\n",
    "reg_trained = fit(reg_hopt, reg_tr_X, reg_tr_y);\n",
    "visualize(reg_trained)"
   ]
  },
  {
   "cell_type": "code",
   "execution_count": 13,
   "metadata": {},
   "outputs": [
    {
     "data": {
      "text/plain": [
       "0.21393231685700517"
      ]
     },
     "execution_count": 13,
     "metadata": {},
     "output_type": "execute_result"
    }
   ],
   "source": [
    "#TODO: change to predict, not transform\n",
    "reg_pred = transform(reg_trained, reg_tst_X)\n",
    "reg_rmse = score(:rmse, reg_pred, reg_tst_y)"
   ]
  },
  {
   "cell_type": "markdown",
   "metadata": {},
   "source": [
    "## Other stuff"
   ]
  },
  {
   "cell_type": "code",
   "execution_count": 14,
   "metadata": {},
   "outputs": [
    {
     "data": {
      "text/plain": [
       "(LaleOp, Lale.LaleAbsTypes.LaleOperator, Learner, Computer, Machine, Any)"
      ]
     },
     "execution_count": 14,
     "metadata": {},
     "output_type": "execute_result"
    }
   ],
   "source": [
    "PCA |> typeof |> supertypes"
   ]
  },
  {
   "cell_type": "code",
   "execution_count": 15,
   "metadata": {},
   "outputs": [
    {
     "data": {
      "text/plain": [
       "(LaleOp, Lale.LaleAbsTypes.LaleOperator, Learner, Computer, Machine, Any)"
      ]
     },
     "execution_count": 15,
     "metadata": {},
     "output_type": "execute_result"
    }
   ],
   "source": [
    "RandomForestRegressor |> typeof |> supertypes"
   ]
  },
  {
   "cell_type": "code",
   "execution_count": 16,
   "metadata": {},
   "outputs": [
    {
     "data": {
      "text/plain": [
       "(LalePipeOptimizer, Lale.LaleAbsTypes.LaleOperator, Learner, Computer, Machine, Any)"
      ]
     },
     "execution_count": 16,
     "metadata": {},
     "output_type": "execute_result"
    }
   ],
   "source": [
    "reg_hopt |> typeof |> supertypes"
   ]
  },
  {
   "cell_type": "code",
   "execution_count": 17,
   "metadata": {},
   "outputs": [
    {
     "name": "stdout",
     "output_type": "stream",
     "text": [
      "fold: 1, 0.013067777777777786\n",
      "fold: 2, 0.033816161616161605\n",
      "fold: 3, 0.013980363636363635\n",
      "fold: 4, 0.031192499999999974\n",
      "fold: 5, 0.05060499999999994\n",
      "fold: 6, 0.02585252525252526\n",
      "fold: 7, 0.048911363636363635\n",
      "fold: 8, 0.041764444444444423\n",
      "fold: 9, 0.016301111111111145\n",
      "fold: 10, 0.05396490909090912\n",
      "errors: 0\n"
     ]
    },
    {
     "data": {
      "text/plain": [
       "0.18304691431298745"
      ]
     },
     "execution_count": 17,
     "metadata": {},
     "output_type": "execute_result"
    }
   ],
   "source": [
    "# regression using AMLP pipeline\n",
    "amlpipe = @pipeline  (PCA + NoOp) |> (RandomForestRegressor * LinearRegression)\n",
    "crossvalidate(amlpipe, reg_tr_X, reg_tr_y, \"mean_squared_error\")\n",
    "amlpred = fit!(amlpipe, reg_tr_X, reg_tr_y)\n",
    "amlpred = transform!(amlpipe, reg_tst_X)\n",
    "amlprmse = score(:rmse, amlpred, reg_tst_y)"
   ]
  },
  {
   "cell_type": "code",
   "execution_count": 18,
   "metadata": {},
   "outputs": [
    {
     "data": {
      "text/plain": [
       "(Pipeline, Workflow, Machine, Any)"
      ]
     },
     "execution_count": 18,
     "metadata": {},
     "output_type": "execute_result"
    }
   ],
   "source": [
    "amlpipe |> typeof |> supertypes"
   ]
  },
  {
   "cell_type": "code",
   "execution_count": 19,
   "metadata": {},
   "outputs": [
    {
     "name": "stdout",
     "output_type": "stream",
     "text": [
      "fold: 1, 0.8\n",
      "fold: 2, 1.0\n",
      "fold: 3, 0.9090909090909091\n",
      "fold: 4, 1.0\n",
      "fold: 5, 1.0\n",
      "fold: 6, 0.8181818181818182\n",
      "fold: 7, 1.0\n",
      "fold: 8, 1.0\n",
      "fold: 9, 1.0\n",
      "fold: 10, 1.0\n",
      "errors: 0\n"
     ]
    },
    {
     "data": {
      "text/plain": [
       "97.77777777777777"
      ]
     },
     "execution_count": 19,
     "metadata": {},
     "output_type": "execute_result"
    }
   ],
   "source": [
    "# classification using AMLP pipeline\n",
    "amlpipe = @pipeline  (PCA + RobustScaler) |> RandomForestClassifier\n",
    "crossvalidate(amlpipe, clf_tr_X, clf_tr_y, \"accuracy_score\")\n",
    "fit!(amlpipe, clf_tr_X, clf_tr_y)\n",
    "amlpred = transform!(amlpipe,clf_tst_X)\n",
    "amlpacc = score(:accuracy, amlpred, clf_tst_y)"
   ]
  },
  {
   "cell_type": "code",
   "execution_count": 20,
   "metadata": {},
   "outputs": [],
   "source": [
    "# amlp ops\n",
    "ohe  = OneHotEncoder()\n",
    "catf = CatFeatureSelector()\n",
    "numf = NumFeatureSelector();\n",
    "#TODO: use Lale OneHotEncoder and Lale Project operators"
   ]
  },
  {
   "cell_type": "code",
   "execution_count": 21,
   "metadata": {},
   "outputs": [
    {
     "data": {
      "text/plain": [
       "(mean = 0.1343659090909091, std = 0.04278185079085658, folds = 10, errors = 0)"
      ]
     },
     "execution_count": 21,
     "metadata": {},
     "output_type": "execute_result"
    }
   ],
   "source": [
    "plr = @pipeline (catf |> ohe) + (numf |> RobustScaler |> PCA) |> RandomForestRegressor;\n",
    "crossvalidate(plr, reg_tr_X, reg_tr_y, \"mean_absolute_error\", 10, false) "
   ]
  },
  {
   "cell_type": "code",
   "execution_count": 22,
   "metadata": {},
   "outputs": [
    {
     "data": {
      "text/plain": [
       "(mean = 0.9054545454545455, std = 0.09793084271099843, folds = 10, errors = 0)"
      ]
     },
     "execution_count": 22,
     "metadata": {},
     "output_type": "execute_result"
    }
   ],
   "source": [
    "plc = @pipeline (catf |> ohe) + (numf |> RobustScaler |> PCA) |> RandomForestClassifier;\n",
    "crossvalidate(plc, clf_tr_X, clf_tr_y,\"accuracy_score\",10,false) "
   ]
  },
  {
   "cell_type": "code",
   "execution_count": null,
   "metadata": {},
   "outputs": [],
   "source": []
  }
 ],
 "metadata": {
  "@webio": {
   "lastCommId": null,
   "lastKernelId": null
  },
  "kernelspec": {
   "display_name": "Julia 1.6.0-rc1",
   "language": "julia",
   "name": "julia-1.6"
  },
  "language_info": {
   "file_extension": ".jl",
   "mimetype": "application/julia",
   "name": "julia",
   "version": "1.6.0"
  }
 },
 "nbformat": 4,
 "nbformat_minor": 4
}
