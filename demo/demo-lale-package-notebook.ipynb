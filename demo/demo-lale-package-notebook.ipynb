{
 "cells": [
  {
   "cell_type": "code",
   "execution_count": 1,
   "metadata": {},
   "outputs": [],
   "source": [
    "using Lale"
   ]
  },
  {
   "cell_type": "code",
   "execution_count": 2,
   "metadata": {},
   "outputs": [],
   "source": [
    "using Random\n",
    "using Statistics\n",
    "using Test\n",
    "using DataFrames: DataFrame\n",
    "using AutoMLPipeline: Utils"
   ]
  },
  {
   "cell_type": "code",
   "execution_count": 4,
   "metadata": {},
   "outputs": [],
   "source": [
    "iris = getiris()\n",
    "Xreg = iris[:,1:3] |> DataFrame\n",
    "Yreg = iris[:,4]   |> Vector\n",
    "Xcl  = iris[:,1:4] |> DataFrame\n",
    "Ycl  = iris[:,5]   |> Vector;"
   ]
  },
  {
   "cell_type": "code",
   "execution_count": 8,
   "metadata": {},
   "outputs": [
    {
     "data": {
      "text/plain": [
       "NumFeatureSelector(\"numf_j7I\", Dict{Symbol, Any}(:name => \"numf_j7I\", :numcols => Int64[]))"
      ]
     },
     "execution_count": 8,
     "metadata": {},
     "output_type": "execute_result"
    }
   ],
   "source": [
    "# lale ops\n",
    "pca     = LalePreprocessor(\"PCA\")\n",
    "rb      = LalePreprocessor(\"RobustScaler\")\n",
    "noop    = LalePreprocessor(\"NoOp\")\n",
    "rfr     = LaleLearner(\"RandomForestRegressor\")\n",
    "rfc     = LaleLearner(\"RandomForestClassifier\")\n",
    "treereg = LaleLearner(\"DecisionTreeRegressor\");\n",
    "# amlp ops\n",
    "ohe  = OneHotEncoder()\n",
    "catf = CatFeatureSelector()\n",
    "numf = NumFeatureSelector()"
   ]
  },
  {
   "cell_type": "code",
   "execution_count": 6,
   "metadata": {},
   "outputs": [
    {
     "data": {
      "text/plain": [
       "(LalePreprocessor, Lale.LaleAbsTypes.LaleOperator, Learner, Computer, Machine, Any)"
      ]
     },
     "execution_count": 6,
     "metadata": {},
     "output_type": "execute_result"
    }
   ],
   "source": [
    "pca |> typeof |> supertypes"
   ]
  },
  {
   "cell_type": "code",
   "execution_count": 7,
   "metadata": {},
   "outputs": [
    {
     "data": {
      "text/plain": [
       "(LaleLearner, Lale.LaleAbsTypes.LaleOperator, Learner, Computer, Machine, Any)"
      ]
     },
     "execution_count": 7,
     "metadata": {},
     "output_type": "execute_result"
    }
   ],
   "source": [
    "rfr |> typeof |> supertypes"
   ]
  },
  {
   "cell_type": "code",
   "execution_count": 9,
   "metadata": {},
   "outputs": [
    {
     "name": "stdout",
     "output_type": "stream",
     "text": [
      "\r",
      "  0%|                                   | 0/10 [00:00<?, ?trial/s, best loss=?]\r",
      " 10%|█         | 1/10 [00:00<00:02,  3.33trial/s, best loss: 68.79479113241148]\r",
      " 20%|██▏        | 2/10 [00:00<00:03,  2.34trial/s, best loss: 39.4035452199696]\r",
      " 30%|███▎       | 3/10 [00:01<00:03,  2.09trial/s, best loss: 39.4035452199696]\r",
      " 40%|████▍      | 4/10 [00:01<00:03,  1.95trial/s, best loss: 39.4035452199696]\r",
      " 50%|█████▌     | 5/10 [00:02<00:02,  2.31trial/s, best loss: 39.4035452199696]\r",
      " 60%|██████▌    | 6/10 [00:02<00:01,  2.48trial/s, best loss: 39.4035452199696]\r",
      " 70%|██████▎  | 7/10 [00:03<00:01,  2.10trial/s, best loss: 38.306480298223626]\r",
      " 80%|███████▏ | 8/10 [00:03<00:00,  2.13trial/s, best loss: 38.306480298223626]\r",
      " 90%|████████ | 9/10 [00:04<00:00,  2.03trial/s, best loss: 38.306480298223626]\r",
      "100%|████████| 10/10 [00:04<00:00,  2.03trial/s, best loss: 38.306480298223626]\r",
      "100%|████████| 10/10 [00:04<00:00,  2.14trial/s, best loss: 38.306480298223626]"
     ]
    },
    {
     "data": {
      "text/plain": [
       "0.210597181663228"
      ]
     },
     "execution_count": 9,
     "metadata": {},
     "output_type": "execute_result"
    }
   ],
   "source": [
    "# regression using lale pipeline\n",
    "lalepipe =  (pca + noop) >>  (rfr | treereg )\n",
    "lale_hopt = LaleOptimizer(lalepipe,\"Hyperopt\",max_evals=10,cv=3)\n",
    "lalepred = fit_transform!(lale_hopt,Xreg,Yreg)\n",
    "lalermse=score(:rmse,lalepred,Yreg)"
   ]
  },
  {
   "cell_type": "code",
   "execution_count": 12,
   "metadata": {},
   "outputs": [
    {
     "data": {
      "text/plain": [
       "(LaleOptimizer, Lale.LaleAbsTypes.LaleOperator, Learner, Computer, Machine, Any)"
      ]
     },
     "execution_count": 12,
     "metadata": {},
     "output_type": "execute_result"
    }
   ],
   "source": [
    "lale_hopt |> typeof |> supertypes"
   ]
  },
  {
   "cell_type": "code",
   "execution_count": 13,
   "metadata": {},
   "outputs": [
    {
     "name": "stdout",
     "output_type": "stream",
     "text": [
      "fold: 1, 0.03799999999999999\n",
      "fold: 2, 0.05466666666666664\n",
      "fold: 3, 0.04149999999999999\n",
      "fold: 4, 0.05366666666666666\n",
      "fold: 5, 0.041999999999999996\n",
      "fold: 6, 0.043333333333333314\n",
      "fold: 7, 0.05800000000000001\n",
      "fold: 8, 0.07866666666666662\n",
      "fold: 9, 0.05333333333333332\n",
      "fold: 10, 0.09266666666666667\n",
      "errors: 0\n"
     ]
    },
    {
     "data": {
      "text/plain": [
       "0.027688746209726913"
      ]
     },
     "execution_count": 13,
     "metadata": {},
     "output_type": "execute_result"
    }
   ],
   "source": [
    "# regression using AMLP pipeline\n",
    "amlpipe = @pipeline  (pca + noop) |> (rfr * treereg)\n",
    "amlpred = fit_transform!(amlpipe,Xreg,Yreg)\n",
    "crossvalidate(amlpipe,Xreg,Yreg,\"mean_squared_error\")\n",
    "amlprmse=score(:rmse,amlpred,Yreg)"
   ]
  },
  {
   "cell_type": "code",
   "execution_count": 14,
   "metadata": {},
   "outputs": [
    {
     "data": {
      "text/plain": [
       "(Pipeline, Workflow, Machine, Any)"
      ]
     },
     "execution_count": 14,
     "metadata": {},
     "output_type": "execute_result"
    }
   ],
   "source": [
    "amlpipe |> typeof |> supertypes"
   ]
  },
  {
   "cell_type": "code",
   "execution_count": 15,
   "metadata": {},
   "outputs": [
    {
     "name": "stdout",
     "output_type": "stream",
     "text": [
      "\n",
      "\r",
      "  0%|                                   | 0/10 [00:00<?, ?trial/s, best loss=?]\r",
      " 10%|▊       | 1/10 [00:00<00:05,  1.60trial/s, best loss: -0.9533333333333333]\r",
      " 20%|████▍                 | 2/10 [00:01<00:05,  1.35trial/s, best loss: -0.96]\r",
      " 30%|██████▌               | 3/10 [00:02<00:05,  1.37trial/s, best loss: -0.96]\r",
      " 40%|███▏    | 4/10 [00:02<00:03,  1.58trial/s, best loss: -0.9733333333333333]\r",
      " 50%|████    | 5/10 [00:03<00:02,  1.73trial/s, best loss: -0.9733333333333333]\r",
      " 60%|████▊   | 6/10 [00:04<00:02,  1.47trial/s, best loss: -0.9733333333333333]\r",
      " 70%|█████▌  | 7/10 [00:04<00:01,  1.51trial/s, best loss: -0.9733333333333333]\r",
      " 80%|██████▍ | 8/10 [00:05<00:01,  1.49trial/s, best loss: -0.9733333333333333]\r",
      " 90%|███████▏| 9/10 [00:06<00:00,  1.48trial/s, best loss: -0.9733333333333333]\r",
      "100%|███████| 10/10 [00:06<00:00,  1.51trial/s, best loss: -0.9733333333333333]\r",
      "100%|███████| 10/10 [00:06<00:00,  1.50trial/s, best loss: -0.9733333333333333]"
     ]
    },
    {
     "data": {
      "text/plain": [
       "98.66666666666667"
      ]
     },
     "execution_count": 15,
     "metadata": {},
     "output_type": "execute_result"
    }
   ],
   "source": [
    "# classification lale pipeline\n",
    "lalepipe =  (rb + pca) |> rfc\n",
    "lale_hopt = LaleOptimizer(lalepipe,\"Hyperopt\",max_evals = 10,cv = 3)\n",
    "lalepred  = fit_transform!(lale_hopt,Xcl,Ycl)\n",
    "laleacc   = score(:accuracy,lalepred,Ycl)"
   ]
  },
  {
   "cell_type": "code",
   "execution_count": 16,
   "metadata": {},
   "outputs": [
    {
     "name": "stdout",
     "output_type": "stream",
     "text": [
      "fold: 1, 1.0\n",
      "fold: 2, 1.0\n",
      "fold: 3, 0.8666666666666667\n",
      "fold: 4, 0.9333333333333333\n",
      "fold: 5, 1.0\n",
      "fold: 6, 1.0\n",
      "fold: 7, 0.9333333333333333\n",
      "fold: 8, 0.9333333333333333\n",
      "fold: 9, 0.8\n",
      "fold: 10, 0.9333333333333333\n",
      "errors: 0\n"
     ]
    },
    {
     "data": {
      "text/plain": [
       "100.0"
      ]
     },
     "execution_count": 16,
     "metadata": {},
     "output_type": "execute_result"
    }
   ],
   "source": [
    "# classification using AMLP pipeline\n",
    "amlpipe = @pipeline  (pca + rb) |> rfc\n",
    "amlpred = fit_transform!(amlpipe,Xcl,Ycl)\n",
    "crossvalidate(amlpipe,Xcl,Ycl,\"accuracy_score\")\n",
    "amlpacc = score(:accuracy,amlpred,Ycl)"
   ]
  },
  {
   "cell_type": "code",
   "execution_count": 17,
   "metadata": {},
   "outputs": [
    {
     "data": {
      "text/plain": [
       "(mean = 0.1542311111111111, std = 0.02257389256451805, folds = 10, errors = 0)"
      ]
     },
     "execution_count": 17,
     "metadata": {},
     "output_type": "execute_result"
    }
   ],
   "source": [
    "plr = @pipeline (catf |> ohe) + (numf |> rb |> pca) |> rfr;\n",
    "crossvalidate(plr,Xreg,Yreg,\"mean_absolute_error\",10,false) "
   ]
  },
  {
   "cell_type": "code",
   "execution_count": 18,
   "metadata": {},
   "outputs": [
    {
     "data": {
      "text/plain": [
       "(mean = 0.9466666666666669, std = 0.052587375849774354, folds = 10, errors = 0)"
      ]
     },
     "execution_count": 18,
     "metadata": {},
     "output_type": "execute_result"
    }
   ],
   "source": [
    "plc = @pipeline (catf |> ohe) + (numf |> rb |> pca) |> rfc;\n",
    "crossvalidate(plc,Xcl,Ycl,\"accuracy_score\",10,false) "
   ]
  },
  {
   "cell_type": "code",
   "execution_count": null,
   "metadata": {},
   "outputs": [],
   "source": []
  }
 ],
 "metadata": {
  "kernelspec": {
   "display_name": "Julia 1.6.0-rc1",
   "language": "julia",
   "name": "julia-1.6"
  },
  "language_info": {
   "file_extension": ".jl",
   "mimetype": "application/julia",
   "name": "julia",
   "version": "1.6.0"
  }
 },
 "nbformat": 4,
 "nbformat_minor": 4
}
