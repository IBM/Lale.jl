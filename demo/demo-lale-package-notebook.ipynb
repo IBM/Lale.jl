{
 "cells": [
  {
   "cell_type": "code",
   "execution_count": 1,
   "metadata": {},
   "outputs": [],
   "source": [
    "using Lale"
   ]
  },
  {
   "cell_type": "code",
   "execution_count": 2,
   "metadata": {},
   "outputs": [],
   "source": [
    "using Random\n",
    "using Statistics\n",
    "using Test\n",
    "using DataFrames: DataFrame\n",
    "using AutoMLPipeline: Utils"
   ]
  },
  {
   "cell_type": "code",
   "execution_count": 3,
   "metadata": {},
   "outputs": [],
   "source": [
    "iris = getiris();\n",
    "#TODO: train-test split"
   ]
  },
  {
   "cell_type": "markdown",
   "metadata": {},
   "source": [
    "## AutoML for classifier pipeline\n",
    "\n",
    "This example uses Lale for combined algorithm selection and hyperparameter tuning\n",
    "on a classifier pipeline."
   ]
  },
  {
   "cell_type": "code",
   "execution_count": 4,
   "metadata": {},
   "outputs": [],
   "source": [
    "clf_X = iris[:,1:4] |> DataFrame\n",
    "clf_y = iris[:,5]   |> Vector;"
   ]
  },
  {
   "cell_type": "code",
   "execution_count": 5,
   "metadata": {},
   "outputs": [],
   "source": [
    "PCA = laleoperator(\"PCA\")\n",
    "RobustScaler = laleoperator(\"RobustScaler\")\n",
    "ConcatFeatures = laleoperator(\"ConcatFeatures\", \"lale\")\n",
    "LogisticRegression = laleoperator(\"LogisticRegression\")\n",
    "RandomForestClassifier = laleoperator(\"RandomForestClassifier\");"
   ]
  },
  {
   "cell_type": "code",
   "execution_count": 7,
   "metadata": {},
   "outputs": [],
   "source": [
    "clf_planned = (PCA & RobustScaler) >> ConcatFeatures >> (LogisticRegression | RandomForestClassifier);\n",
    "#TODO: visualize planned pipeline"
   ]
  },
  {
   "cell_type": "code",
   "execution_count": 10,
   "metadata": {},
   "outputs": [
    {
     "name": "stdout",
     "output_type": "stream",
     "text": [
      "\r",
      "  0%|                                   | 0/10 [00:00<?, ?trial/s, best loss=?]\r",
      " 10%|██▏                   | 1/10 [00:00<00:06,  1.29trial/s, best loss: -0.96]\r",
      " 20%|████▍                 | 2/10 [00:01<00:04,  1.96trial/s, best loss: -0.96]\r",
      " 30%|██████▌               | 3/10 [00:01<00:03,  2.24trial/s, best loss: -0.96]\r",
      " 40%|████████▊             | 4/10 [00:01<00:02,  2.55trial/s, best loss: -0.96]\r",
      " 50%|███████████           | 5/10 [00:02<00:02,  2.24trial/s, best loss: -0.96]\r",
      " 60%|█████████████▏        | 6/10 [00:02<00:01,  2.04trial/s, best loss: -0.96]\r",
      " 70%|███████████████▍      | 7/10 [00:03<00:01,  2.20trial/s, best loss: -0.96]\r",
      " 80%|█████████████████▌    | 8/10 [00:03<00:00,  2.37trial/s, best loss: -0.98]\r",
      " 90%|███████████████████▊  | 9/10 [00:04<00:00,  2.46trial/s, best loss: -0.98]\r",
      "100%|█████████████████████| 10/10 [00:04<00:00,  2.64trial/s, best loss: -0.98]\r",
      "100%|█████████████████████| 10/10 [00:04<00:00,  2.31trial/s, best loss: -0.98]"
     ]
    }
   ],
   "source": [
    "clf_hopt = LalePipeOptimizer(clf_planned, max_evals=10, cv=3)\n",
    "clf_trained = fit(clf_hopt, clf_X, clf_y);\n",
    "#TODO: visualize trained pipeline"
   ]
  },
  {
   "cell_type": "code",
   "execution_count": 11,
   "metadata": {},
   "outputs": [
    {
     "data": {
      "text/plain": [
       "98.0"
      ]
     },
     "execution_count": 11,
     "metadata": {},
     "output_type": "execute_result"
    }
   ],
   "source": [
    "#TODO: change to predict, not transform\n",
    "clf_pred = transform(clf_trained, clf_X)\n",
    "clf_accu = score(:accuracy, clf_pred, clf_y)"
   ]
  },
  {
   "cell_type": "markdown",
   "metadata": {},
   "source": [
    "## AutoML for regressor pipeline\n",
    "\n",
    "This example uses Lale for combined algorithm selection and hyperparameter tuning\n",
    "on a regressor pipeline."
   ]
  },
  {
   "cell_type": "code",
   "execution_count": 12,
   "metadata": {},
   "outputs": [],
   "source": [
    "reg_X = iris[:,1:3] |> DataFrame\n",
    "reg_y = iris[:,4]   |> Vector;"
   ]
  },
  {
   "cell_type": "code",
   "execution_count": 13,
   "metadata": {},
   "outputs": [],
   "source": [
    "PCA = laleoperator(\"PCA\")\n",
    "NoOp = laleoperator(\"NoOp\", \"lale\")\n",
    "LinearRegression = laleoperator(\"LinearRegression\")\n",
    "RandomForestRegressor = laleoperator(\"RandomForestRegressor\");"
   ]
  },
  {
   "cell_type": "code",
   "execution_count": 14,
   "metadata": {},
   "outputs": [],
   "source": [
    "reg_planned = (PCA | NoOp) >> (LinearRegression | RandomForestRegressor);\n",
    "#TODO: visualize planned pipeline"
   ]
  },
  {
   "cell_type": "code",
   "execution_count": 16,
   "metadata": {},
   "outputs": [
    {
     "name": "stdout",
     "output_type": "stream",
     "text": [
      "\n",
      "\r",
      "  0%|                                   | 0/10 [00:00<?, ?trial/s, best loss=?]\r",
      " 10%|█         | 1/10 [00:00<00:03,  2.57trial/s, best loss: 49.60474466581064]\r",
      " 20%|█▊       | 2/10 [00:00<00:02,  3.45trial/s, best loss: 0.8193203131550298]\r",
      " 30%|██▋      | 3/10 [00:00<00:02,  3.44trial/s, best loss: 0.8193203131550298]\r",
      " 40%|███▌     | 4/10 [00:01<00:01,  3.95trial/s, best loss: 0.8193203131550298]\r",
      " 50%|████▌    | 5/10 [00:01<00:01,  2.99trial/s, best loss: 0.8193203131550298]\r",
      " 60%|█████▍   | 6/10 [00:02<00:01,  2.54trial/s, best loss: 0.8193203131550298]\r",
      " 70%|██████▎  | 7/10 [00:02<00:01,  2.88trial/s, best loss: 0.8193203131550298]\r",
      " 80%|███████▏ | 8/10 [00:02<00:00,  3.25trial/s, best loss: 0.6099374987699132]\r",
      " 90%|████████ | 9/10 [00:02<00:00,  3.44trial/s, best loss: 0.6099374987699132]\r",
      "100%|████████| 10/10 [00:02<00:00,  3.88trial/s, best loss: 0.6099374987699132]\r",
      "100%|████████| 10/10 [00:02<00:00,  3.34trial/s, best loss: 0.6099374987699132]"
     ]
    }
   ],
   "source": [
    "reg_hopt = LalePipeOptimizer(reg_planned, max_evals=10, cv=3)\n",
    "reg_trained = fit(reg_hopt, reg_X, reg_y);\n",
    "#TODO: visualize trained pipeline"
   ]
  },
  {
   "cell_type": "code",
   "execution_count": 17,
   "metadata": {},
   "outputs": [
    {
     "data": {
      "text/plain": [
       "0.1905638165002068"
      ]
     },
     "execution_count": 17,
     "metadata": {},
     "output_type": "execute_result"
    }
   ],
   "source": [
    "#TODO: change to predict, not transform\n",
    "reg_pred = transform(reg_trained, reg_X)\n",
    "reg_rmse = score(:rmse, reg_pred, reg_y)"
   ]
  },
  {
   "cell_type": "markdown",
   "metadata": {},
   "source": [
    "## Other stuff"
   ]
  },
  {
   "cell_type": "code",
   "execution_count": 18,
   "metadata": {},
   "outputs": [
    {
     "data": {
      "text/plain": [
       "(LaleOp, Lale.LaleAbsTypes.LaleOperator, Learner, Computer, Machine, Any)"
      ]
     },
     "execution_count": 18,
     "metadata": {},
     "output_type": "execute_result"
    }
   ],
   "source": [
    "PCA |> typeof |> supertypes"
   ]
  },
  {
   "cell_type": "code",
   "execution_count": 19,
   "metadata": {},
   "outputs": [
    {
     "data": {
      "text/plain": [
       "(LaleOp, Lale.LaleAbsTypes.LaleOperator, Learner, Computer, Machine, Any)"
      ]
     },
     "execution_count": 19,
     "metadata": {},
     "output_type": "execute_result"
    }
   ],
   "source": [
    "RandomForestRegressor |> typeof |> supertypes"
   ]
  },
  {
   "cell_type": "code",
   "execution_count": 16,
   "metadata": {},
   "outputs": [
    {
     "data": {
      "text/plain": [
       "(LaleOptimizer, Lale.LaleAbsTypes.LaleOperator, Learner, Computer, Machine, Any)"
      ]
     },
     "execution_count": 16,
     "metadata": {},
     "output_type": "execute_result"
    }
   ],
   "source": [
    "reg_hopt |> typeof |> supertypes"
   ]
  },
  {
   "cell_type": "code",
   "execution_count": 20,
   "metadata": {},
   "outputs": [
    {
     "name": "stdout",
     "output_type": "stream",
     "text": [
      "fold: 1, 0.03991648148148145\n",
      "fold: 2, 0.04070537037037037\n",
      "fold: 3, 0.03292666666666664\n",
      "fold: 4, 0.0504333333333333\n",
      "fold: 5, 0.03168870748299319\n",
      "fold: 6, 0.03315500000000006\n",
      "fold: 7, 0.045158518518518515\n",
      "fold: 8, 0.03477799319727889\n",
      "fold: 9, 0.04218166666666665\n",
      "fold: 10, 0.04149648148148148\n",
      "errors: 0\n"
     ]
    },
    {
     "data": {
      "text/plain": [
       "0.08686739361851532"
      ]
     },
     "execution_count": 20,
     "metadata": {},
     "output_type": "execute_result"
    }
   ],
   "source": [
    "# regression using AMLP pipeline\n",
    "amlpipe = @pipeline  (PCA + NoOp) |> (RandomForestRegressor * LinearRegression)\n",
    "amlpred = fit_transform!(amlpipe, reg_X, reg_y)\n",
    "crossvalidate(amlpipe, reg_X, reg_y, \"mean_squared_error\")\n",
    "amlprmse = score(:rmse, amlpred, reg_y)"
   ]
  },
  {
   "cell_type": "code",
   "execution_count": 21,
   "metadata": {},
   "outputs": [
    {
     "data": {
      "text/plain": [
       "(Pipeline, Workflow, Machine, Any)"
      ]
     },
     "execution_count": 21,
     "metadata": {},
     "output_type": "execute_result"
    }
   ],
   "source": [
    "amlpipe |> typeof |> supertypes"
   ]
  },
  {
   "cell_type": "code",
   "execution_count": 22,
   "metadata": {},
   "outputs": [
    {
     "name": "stdout",
     "output_type": "stream",
     "text": [
      "fold: 1, 1.0\n",
      "fold: 2, 1.0\n",
      "fold: 3, 1.0\n",
      "fold: 4, 0.9333333333333333\n",
      "fold: 5, 0.8666666666666667\n",
      "fold: 6, 0.9333333333333333\n",
      "fold: 7, 0.9333333333333333\n",
      "fold: 8, 0.9333333333333333\n",
      "fold: 9, 0.8666666666666667\n",
      "fold: 10, 1.0\n",
      "errors: 0\n"
     ]
    },
    {
     "data": {
      "text/plain": [
       "99.33333333333333"
      ]
     },
     "execution_count": 22,
     "metadata": {},
     "output_type": "execute_result"
    }
   ],
   "source": [
    "# classification using AMLP pipeline\n",
    "amlpipe = @pipeline  (PCA + RobustScaler) |> RandomForestClassifier\n",
    "amlpred = fit_transform!(amlpipe, clf_X, clf_y)\n",
    "crossvalidate(amlpipe, clf_X, clf_y, \"accuracy_score\")\n",
    "amlpacc = score(:accuracy, amlpred, clf_y)"
   ]
  },
  {
   "cell_type": "code",
   "execution_count": 23,
   "metadata": {},
   "outputs": [],
   "source": [
    "# amlp ops\n",
    "ohe  = OneHotEncoder()\n",
    "catf = CatFeatureSelector()\n",
    "numf = NumFeatureSelector();\n",
    "#TODO: use Lale OneHotEncoder and Lale Project operators"
   ]
  },
  {
   "cell_type": "code",
   "execution_count": 24,
   "metadata": {},
   "outputs": [
    {
     "data": {
      "text/plain": [
       "(mean = 0.1671011111111111, std = 0.033359377664898084, folds = 10, errors = 0)"
      ]
     },
     "execution_count": 24,
     "metadata": {},
     "output_type": "execute_result"
    }
   ],
   "source": [
    "plr = @pipeline (catf |> ohe) + (numf |> RobustScaler |> PCA) |> RandomForestRegressor;\n",
    "crossvalidate(plr, reg_X, reg_y, \"mean_absolute_error\", 10, false) "
   ]
  },
  {
   "cell_type": "code",
   "execution_count": 25,
   "metadata": {},
   "outputs": [
    {
     "data": {
      "text/plain": [
       "(mean = 0.9666666666666666, std = 0.04714045207910316, folds = 10, errors = 0)"
      ]
     },
     "execution_count": 25,
     "metadata": {},
     "output_type": "execute_result"
    }
   ],
   "source": [
    "plc = @pipeline (catf |> ohe) + (numf |> RobustScaler |> PCA) |> RandomForestClassifier;\n",
    "crossvalidate(plc, clf_X, clf_y,\"accuracy_score\",10,false) "
   ]
  },
  {
   "cell_type": "code",
   "execution_count": null,
   "metadata": {},
   "outputs": [],
   "source": []
  }
 ],
 "metadata": {
  "kernelspec": {
   "display_name": "Julia 1.6.0-rc1",
   "language": "julia",
   "name": "julia-1.6"
  },
  "language_info": {
   "file_extension": ".jl",
   "mimetype": "application/julia",
   "name": "julia",
   "version": "1.6.0"
  }
 },
 "nbformat": 4,
 "nbformat_minor": 4
}
