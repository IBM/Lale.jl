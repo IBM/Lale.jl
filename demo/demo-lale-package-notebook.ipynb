{
 "cells": [
  {
   "cell_type": "code",
   "execution_count": 1,
   "metadata": {},
   "outputs": [],
   "source": [
    "using Lale"
   ]
  },
  {
   "cell_type": "code",
   "execution_count": 2,
   "metadata": {},
   "outputs": [],
   "source": [
    "using Random\n",
    "using Statistics\n",
    "using Test\n",
    "using DataFrames: DataFrame\n",
    "using AutoMLPipeline: Utils"
   ]
  },
  {
   "cell_type": "code",
   "execution_count": 3,
   "metadata": {},
   "outputs": [],
   "source": [
    "iris = getiris();\n",
    "#TODO: train-test split"
   ]
  },
  {
   "cell_type": "markdown",
   "metadata": {},
   "source": [
    "## AutoML for classifier pipeline\n",
    "\n",
    "This example uses Lale for combined algorithm selection and hyperparameter tuning\n",
    "on a classifier pipeline."
   ]
  },
  {
   "cell_type": "code",
   "execution_count": 4,
   "metadata": {},
   "outputs": [],
   "source": [
    "clf_X = iris[:,1:4] |> DataFrame\n",
    "clf_y = iris[:,5]   |> Vector;"
   ]
  },
  {
   "cell_type": "code",
   "execution_count": 5,
   "metadata": {},
   "outputs": [],
   "source": [
    "PCA = laleoperator(\"PCA\")\n",
    "RobustScaler = laleoperator(\"RobustScaler\")\n",
    "ConcatFeatures = laleoperator(\"ConcatFeatures\", \"lale\")\n",
    "LogisticRegression = laleoperator(\"LogisticRegression\")\n",
    "RandomForestClassifier = laleoperator(\"RandomForestClassifier\");"
   ]
  },
  {
   "cell_type": "code",
   "execution_count": 6,
   "metadata": {},
   "outputs": [],
   "source": [
    "clf_planned = (PCA & RobustScaler) >> ConcatFeatures >> (LogisticRegression | RandomForestClassifier);\n",
    "#TODO: visualize planned pipeline"
   ]
  },
  {
   "cell_type": "code",
   "execution_count": 7,
   "metadata": {},
   "outputs": [
    {
     "name": "stdout",
     "output_type": "stream",
     "text": [
      "100%|███████| 10/10 [00:08<00:00,  1.20trial/s, best loss: -0.9666666666666667]"
     ]
    }
   ],
   "source": [
    "clf_hopt = LaleOptimizer(clf_planned, \"Hyperopt\", max_evals=10, cv=3)\n",
    "clf_trained = fit(clf_hopt, clf_X, clf_y);\n",
    "#TODO: visualize trained pipeline"
   ]
  },
  {
   "cell_type": "code",
   "execution_count": 8,
   "metadata": {},
   "outputs": [
    {
     "data": {
      "text/plain": [
       "97.33333333333334"
      ]
     },
     "execution_count": 8,
     "metadata": {},
     "output_type": "execute_result"
    }
   ],
   "source": [
    "#TODO: change to predict, not transform\n",
    "clf_pred = transform(clf_trained, clf_X)\n",
    "clf_accu = score(:accuracy, clf_pred, clf_y)"
   ]
  },
  {
   "cell_type": "markdown",
   "metadata": {},
   "source": [
    "## AutoML for regressor pipeline\n",
    "\n",
    "This example uses Lale for combined algorithm selection and hyperparameter tuning\n",
    "on a regressor pipeline."
   ]
  },
  {
   "cell_type": "code",
   "execution_count": 9,
   "metadata": {},
   "outputs": [],
   "source": [
    "reg_X = iris[:,1:3] |> DataFrame\n",
    "reg_y = iris[:,4]   |> Vector;"
   ]
  },
  {
   "cell_type": "code",
   "execution_count": 10,
   "metadata": {},
   "outputs": [],
   "source": [
    "PCA = laleoperator(\"PCA\")\n",
    "NoOp = laleoperator(\"NoOp\", \"lale\")\n",
    "LinearRegression = laleoperator(\"LinearRegression\")\n",
    "RandomForestRegressor = laleoperator(\"RandomForestRegressor\");"
   ]
  },
  {
   "cell_type": "code",
   "execution_count": 11,
   "metadata": {},
   "outputs": [],
   "source": [
    "reg_planned = (PCA | NoOp) >> (LinearRegression | RandomForestRegressor);\n",
    "#TODO: visualize planned pipeline"
   ]
  },
  {
   "cell_type": "code",
   "execution_count": 12,
   "metadata": {},
   "outputs": [
    {
     "name": "stdout",
     "output_type": "stream",
     "text": [
      "\n",
      "100%|████████| 10/10 [00:04<00:00,  2.11trial/s, best loss: 0.6099374987699129]"
     ]
    }
   ],
   "source": [
    "reg_hopt = LaleOptimizer(reg_planned, \"Hyperopt\", max_evals=10, cv=3)\n",
    "reg_trained = fit(reg_hopt, reg_X, reg_y);\n",
    "#TODO: visualize trained pipeline"
   ]
  },
  {
   "cell_type": "code",
   "execution_count": 13,
   "metadata": {},
   "outputs": [
    {
     "data": {
      "text/plain": [
       "0.1905638165002068"
      ]
     },
     "execution_count": 13,
     "metadata": {},
     "output_type": "execute_result"
    }
   ],
   "source": [
    "#TODO: change to predict, not transform\n",
    "reg_pred = transform(reg_trained, reg_X)\n",
    "reg_rmse = score(:rmse, reg_pred, reg_y)"
   ]
  },
  {
   "cell_type": "markdown",
   "metadata": {},
   "source": [
    "## Other stuff"
   ]
  },
  {
   "cell_type": "code",
   "execution_count": 14,
   "metadata": {},
   "outputs": [
    {
     "data": {
      "text/plain": [
       "(LaleOp, Lale.LaleAbsTypes.LaleOperator, Learner, Computer, Machine, Any)"
      ]
     },
     "execution_count": 14,
     "metadata": {},
     "output_type": "execute_result"
    }
   ],
   "source": [
    "PCA |> typeof |> supertypes"
   ]
  },
  {
   "cell_type": "code",
   "execution_count": 15,
   "metadata": {},
   "outputs": [
    {
     "data": {
      "text/plain": [
       "(LaleOp, Lale.LaleAbsTypes.LaleOperator, Learner, Computer, Machine, Any)"
      ]
     },
     "execution_count": 15,
     "metadata": {},
     "output_type": "execute_result"
    }
   ],
   "source": [
    "RandomForestRegressor |> typeof |> supertypes"
   ]
  },
  {
   "cell_type": "code",
   "execution_count": 16,
   "metadata": {},
   "outputs": [
    {
     "data": {
      "text/plain": [
       "(LaleOptimizer, Lale.LaleAbsTypes.LaleOperator, Learner, Computer, Machine, Any)"
      ]
     },
     "execution_count": 16,
     "metadata": {},
     "output_type": "execute_result"
    }
   ],
   "source": [
    "reg_hopt |> typeof |> supertypes"
   ]
  },
  {
   "cell_type": "code",
   "execution_count": 17,
   "metadata": {},
   "outputs": [
    {
     "name": "stdout",
     "output_type": "stream",
     "text": [
      "fold: 1, 0.03514803112962976\n",
      "fold: 2, 0.029896995145880588\n",
      "fold: 3, 0.034010771555555555\n",
      "fold: 4, 0.049248799444444505\n",
      "fold: 5, 0.040149968907407484\n",
      "fold: 6, 0.01578295531481481\n",
      "fold: 7, 0.03188891511451248\n",
      "fold: 8, 0.04110084196296324\n",
      "fold: 9, 0.06609304236583483\n",
      "fold: 10, 0.02241286729936931\n",
      "errors: 0\n"
     ]
    },
    {
     "data": {
      "text/plain": [
       "0.07133788276361826"
      ]
     },
     "execution_count": 17,
     "metadata": {},
     "output_type": "execute_result"
    }
   ],
   "source": [
    "# regression using AMLP pipeline\n",
    "amlpipe = @pipeline  (PCA + NoOp) |> (RandomForestRegressor * LinearRegression)\n",
    "amlpred = fit_transform!(amlpipe, reg_X, reg_y)\n",
    "crossvalidate(amlpipe, reg_X, reg_y, \"mean_squared_error\")\n",
    "amlprmse = score(:rmse, amlpred, reg_y)"
   ]
  },
  {
   "cell_type": "code",
   "execution_count": 18,
   "metadata": {},
   "outputs": [
    {
     "data": {
      "text/plain": [
       "(Pipeline, Workflow, Machine, Any)"
      ]
     },
     "execution_count": 18,
     "metadata": {},
     "output_type": "execute_result"
    }
   ],
   "source": [
    "amlpipe |> typeof |> supertypes"
   ]
  },
  {
   "cell_type": "code",
   "execution_count": 19,
   "metadata": {},
   "outputs": [
    {
     "name": "stdout",
     "output_type": "stream",
     "text": [
      "fold: 1, 1.0\n",
      "fold: 2, 1.0\n",
      "fold: 3, 1.0\n",
      "fold: 4, 1.0\n",
      "fold: 5, 1.0\n",
      "fold: 6, 0.9333333333333333\n",
      "fold: 7, 0.8666666666666667\n",
      "fold: 8, 1.0\n",
      "fold: 9, 0.8\n",
      "fold: 10, 1.0\n",
      "errors: 0\n"
     ]
    },
    {
     "data": {
      "text/plain": [
       "100.0"
      ]
     },
     "execution_count": 19,
     "metadata": {},
     "output_type": "execute_result"
    }
   ],
   "source": [
    "# classification using AMLP pipeline\n",
    "amlpipe = @pipeline  (PCA + RobustScaler) |> RandomForestClassifier\n",
    "amlpred = fit_transform!(amlpipe, clf_X, clf_y)\n",
    "crossvalidate(amlpipe, clf_X, clf_y, \"accuracy_score\")\n",
    "amlpacc = score(:accuracy, amlpred, clf_y)"
   ]
  },
  {
   "cell_type": "code",
   "execution_count": 23,
   "metadata": {},
   "outputs": [],
   "source": [
    "# amlp ops\n",
    "ohe  = OneHotEncoder()\n",
    "catf = CatFeatureSelector()\n",
    "numf = NumFeatureSelector();\n",
    "#TODO: use Lale OneHotEncoder and Lale Project operators"
   ]
  },
  {
   "cell_type": "code",
   "execution_count": 21,
   "metadata": {},
   "outputs": [
    {
     "data": {
      "text/plain": [
       "(mean = 0.1510826190476191, std = 0.038446140923021906, folds = 10, errors = 0)"
      ]
     },
     "execution_count": 21,
     "metadata": {},
     "output_type": "execute_result"
    }
   ],
   "source": [
    "plr = @pipeline (catf |> ohe) + (numf |> RobustScaler |> PCA) |> RandomForestRegressor;\n",
    "crossvalidate(plr, reg_X, reg_y, \"mean_absolute_error\", 10, false) "
   ]
  },
  {
   "cell_type": "code",
   "execution_count": 22,
   "metadata": {},
   "outputs": [
    {
     "data": {
      "text/plain": [
       "(mean = 0.9600000000000002, std = 0.06440611887195305, folds = 10, errors = 0)"
      ]
     },
     "execution_count": 22,
     "metadata": {},
     "output_type": "execute_result"
    }
   ],
   "source": [
    "plc = @pipeline (catf |> ohe) + (numf |> RobustScaler |> PCA) |> RandomForestClassifier;\n",
    "crossvalidate(plc, clf_X, clf_y,\"accuracy_score\",10,false) "
   ]
  },
  {
   "cell_type": "code",
   "execution_count": null,
   "metadata": {},
   "outputs": [],
   "source": []
  }
 ],
 "metadata": {
  "kernelspec": {
   "display_name": "Julia 1.6.0-rc3",
   "language": "julia",
   "name": "julia-1.6"
  },
  "language_info": {
   "file_extension": ".jl",
   "mimetype": "application/julia",
   "name": "julia",
   "version": "1.6.0"
  }
 },
 "nbformat": 4,
 "nbformat_minor": 4
}
