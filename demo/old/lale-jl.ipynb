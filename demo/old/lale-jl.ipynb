{
 "cells": [
  {
   "cell_type": "code",
   "execution_count": 2,
   "metadata": {},
   "outputs": [
    {
     "name": "stderr",
     "output_type": "stream",
     "text": [
      "\u001b[32m\u001b[1m  Activating\u001b[22m\u001b[39m new environment at `~/ibmgithub/jlale/src/Project.toml`\n"
     ]
    }
   ],
   "source": [
    "]activate ."
   ]
  },
  {
   "cell_type": "code",
   "execution_count": 3,
   "metadata": {},
   "outputs": [
    {
     "data": {
      "text/plain": [
       "PyObject <class 'sklearn.pipeline.Pipeline'>"
      ]
     },
     "execution_count": 3,
     "metadata": {},
     "output_type": "execute_result"
    }
   ],
   "source": [
    "using PyCall\n",
    "using Pandas\n",
    "sk       = pyimport(\"sklearn\")\n",
    "np       = pyimport(\"numpy\")\n",
    "pd       = pyimport(\"pandas\")\n",
    "dt       = pyimport(\"lale.datasets\")\n",
    "pickle   = pyimport(\"pickle\")\n",
    "lale     = pyimport(\"lale\")\n",
    "RF       = pyimport(\"sklearn.ensemble\").RandomForestRegressor\n",
    "LinReg   = pyimport(\"sklearn.linear_model\").LinearRegression\n",
    "PCA      = pyimport(\"sklearn.decomposition\").PCA\n",
    "ICA      = pyimport(\"sklearn.decomposition\").FastICA\n",
    "Tree     = pyimport(\"sklearn.tree\").DecisionTreeRegressor\n",
    "Pipeline = pyimport(\"sklearn.pipeline\").Pipeline"
   ]
  },
  {
   "cell_type": "code",
   "execution_count": 4,
   "metadata": {},
   "outputs": [
    {
     "data": {
      "text/plain": [
       "PyObject <function make_union at 0x7f963161a440>"
      ]
     },
     "execution_count": 4,
     "metadata": {},
     "output_type": "execute_result"
    }
   ],
   "source": [
    "# @pyimport lale.lib.lale as lb\n",
    "lb             = pyimport(\"lale.lib.lale\")\n",
    "Hyperopt       = lb.Hyperopt\n",
    "GridSearchCV   = lb.GridSearchCV\n",
    "NoOp           = lb.NoOp\n",
    "ConcatFeatures = lb.ConcatFeatures\n",
    "\n",
    "# @pyimport lale.operators as lops\n",
    "lops          = pyimport(\"lale.operators\")\n",
    "make_pipeline = lops.make_pipeline\n",
    "make_choice   = lops.make_choice\n",
    "make_union    = lops.make_union"
   ]
  },
  {
   "cell_type": "code",
   "execution_count": 5,
   "metadata": {},
   "outputs": [
    {
     "data": {
      "text/plain": [
       "| (generic function with 33 methods)"
      ]
     },
     "execution_count": 5,
     "metadata": {},
     "output_type": "execute_result"
    }
   ],
   "source": [
    "# define lale operators\n",
    "import Base: >>, |, +\n",
    ">>(a::PyObject,b::PyObject) = make_pipeline(a,b)\n",
    "+(a::PyObject,b::PyObject)  = make_union(a,b)  # UTF \\oplus\n",
    "|(a::PyObject,b::PyObject)  = make_choice(a,b) # UTF \\times"
   ]
  },
  {
   "cell_type": "code",
   "execution_count": 6,
   "metadata": {},
   "outputs": [
    {
     "data": {
      "text/html": [
       "<div>\n",
       "<style scoped>\n",
       "    .dataframe tbody tr th:only-of-type {\n",
       "        vertical-align: middle;\n",
       "    }\n",
       "\n",
       "    .dataframe tbody tr th {\n",
       "        vertical-align: top;\n",
       "    }\n",
       "\n",
       "    .dataframe thead th {\n",
       "        text-align: right;\n",
       "    }\n",
       "</style>\n",
       "<table border=\"1\" class=\"dataframe\">\n",
       "  <thead>\n",
       "    <tr style=\"text-align: right;\">\n",
       "      <th></th>\n",
       "      <th>MedInc</th>\n",
       "      <th>HouseAge</th>\n",
       "      <th>AveRooms</th>\n",
       "      <th>AveBedrms</th>\n",
       "      <th>Population</th>\n",
       "      <th>AveOccup</th>\n",
       "      <th>Latitude</th>\n",
       "      <th>Longitude</th>\n",
       "      <th>target</th>\n",
       "    </tr>\n",
       "  </thead>\n",
       "  <tbody>\n",
       "    <tr>\n",
       "      <th>0</th>\n",
       "      <td>3.2596</td>\n",
       "      <td>33.0</td>\n",
       "      <td>5.017657</td>\n",
       "      <td>1.006421</td>\n",
       "      <td>2300.0</td>\n",
       "      <td>3.691814</td>\n",
       "      <td>32.71</td>\n",
       "      <td>-117.03</td>\n",
       "      <td>1.030</td>\n",
       "    </tr>\n",
       "    <tr>\n",
       "      <th>1</th>\n",
       "      <td>3.8125</td>\n",
       "      <td>49.0</td>\n",
       "      <td>4.473545</td>\n",
       "      <td>1.041005</td>\n",
       "      <td>1314.0</td>\n",
       "      <td>1.738095</td>\n",
       "      <td>33.77</td>\n",
       "      <td>-118.16</td>\n",
       "      <td>3.821</td>\n",
       "    </tr>\n",
       "    <tr>\n",
       "      <th>2</th>\n",
       "      <td>4.1563</td>\n",
       "      <td>4.0</td>\n",
       "      <td>5.645833</td>\n",
       "      <td>0.985119</td>\n",
       "      <td>915.0</td>\n",
       "      <td>2.723214</td>\n",
       "      <td>34.66</td>\n",
       "      <td>-120.48</td>\n",
       "      <td>1.726</td>\n",
       "    </tr>\n",
       "    <tr>\n",
       "      <th>3</th>\n",
       "      <td>1.9425</td>\n",
       "      <td>36.0</td>\n",
       "      <td>4.002817</td>\n",
       "      <td>1.033803</td>\n",
       "      <td>1418.0</td>\n",
       "      <td>3.994366</td>\n",
       "      <td>32.69</td>\n",
       "      <td>-117.11</td>\n",
       "      <td>0.934</td>\n",
       "    </tr>\n",
       "    <tr>\n",
       "      <th>4</th>\n",
       "      <td>3.5542</td>\n",
       "      <td>43.0</td>\n",
       "      <td>6.268421</td>\n",
       "      <td>1.134211</td>\n",
       "      <td>874.0</td>\n",
       "      <td>2.300000</td>\n",
       "      <td>36.78</td>\n",
       "      <td>-119.80</td>\n",
       "      <td>0.965</td>\n",
       "    </tr>\n",
       "  </tbody>\n",
       "</table>\n",
       "</div>"
      ],
      "text/plain": [
       "PyObject    MedInc  HouseAge  AveRooms  AveBedrms  ...  AveOccup  Latitude  Longitude  target\n",
       "0  3.2596      33.0  5.017657   1.006421  ...  3.691814     32.71    -117.03   1.030\n",
       "1  3.8125      49.0  4.473545   1.041005  ...  1.738095     33.77    -118.16   3.821\n",
       "2  4.1563       4.0  5.645833   0.985119  ...  2.723214     34.66    -120.48   1.726\n",
       "3  1.9425      36.0  4.002817   1.033803  ...  3.994366     32.69    -117.11   0.934\n",
       "4  3.5542      43.0  6.268421   1.134211  ...  2.300000     36.78    -119.80   0.965\n",
       "\n",
       "[5 rows x 9 columns]"
      ]
     },
     "execution_count": 6,
     "metadata": {},
     "output_type": "execute_result"
    }
   ],
   "source": [
    "# load data\n",
    "(train_X, train_y), (test_X, test_y) = dt.california_housing_df()\n",
    "pd.concat([train_X.head(), train_y.head()], axis=1)"
   ]
  },
  {
   "cell_type": "code",
   "execution_count": 7,
   "metadata": {},
   "outputs": [
    {
     "name": "stdout",
     "output_type": "stream",
     "text": [
      "R2 score: 0.48907967672966424"
     ]
    }
   ],
   "source": [
    "# pipeline 1\n",
    "pca_tree_planned = Pipeline(steps=[(\"tfm\", PCA()), (\"estim\", Tree())])\n",
    "pca_tree_planned.fit(train_X, train_y)\n",
    "predicted = pca_tree_planned.predict(test_X);\n",
    "print(\"R2 score: \",sk.metrics.r2_score(test_y, predicted))"
   ]
  },
  {
   "cell_type": "code",
   "execution_count": 8,
   "metadata": {},
   "outputs": [
    {
     "name": "stdout",
     "output_type": "stream",
     "text": [
      "\r",
      "  0%|                                   | 0/10 [00:00<?, ?trial/s, best loss=?]\r",
      " 10%|▊       | 1/10 [00:00<00:05,  1.77trial/s, best loss: -0.5093037512614084]\r",
      " 20%|█▌      | 2/10 [00:01<00:04,  1.77trial/s, best loss: -0.5099758048941679]\r",
      " 30%|██▍     | 3/10 [00:01<00:04,  1.74trial/s, best loss: -0.5128499776733926]\r",
      " 40%|███▏    | 4/10 [00:02<00:03,  1.73trial/s, best loss: -0.5128499776733926]\r",
      " 50%|████    | 5/10 [00:02<00:02,  1.74trial/s, best loss: -0.5148614896218516]\r",
      " 60%|████▊   | 6/10 [00:03<00:02,  1.74trial/s, best loss: -0.5164011725861685]\r",
      " 70%|█████▌  | 7/10 [00:04<00:01,  1.74trial/s, best loss: -0.5164011725861685]\r",
      " 80%|██████▍ | 8/10 [00:04<00:01,  1.74trial/s, best loss: -0.5164011725861685]\r",
      " 90%|███████▏| 9/10 [00:05<00:00,  1.75trial/s, best loss: -0.5164011725861685]\r",
      "100%|███████| 10/10 [00:05<00:00,  1.75trial/s, best loss: -0.5164011725861685]\r",
      "100%|███████| 10/10 [00:05<00:00,  1.74trial/s, best loss: -0.5164011725861685]R2 score: 0.4960088670497377"
     ]
    }
   ],
   "source": [
    "# pipeline 2\n",
    "pipeline    = PCA() >> Tree()\n",
    "trainedhopt = pipeline.auto_configure(train_X, train_y, optimizer=Hyperopt,      cv=3, max_evals=10, verbose=true)\n",
    "predicted   = trainedhopt.predict(test_X);\n",
    "print(\"R2 score: \",sk.metrics.r2_score(test_y, predicted))"
   ]
  },
  {
   "cell_type": "code",
   "execution_count": 16,
   "metadata": {},
   "outputs": [
    {
     "name": "stdout",
     "output_type": "stream",
     "text": [
      "\n",
      "\r",
      "  0%|                                   | 0/10 [00:00<?, ?trial/s, best loss=?]\r",
      " 10%|▊       | 1/10 [00:00<00:05,  1.68trial/s, best loss: -0.5087868120949315]\r",
      " 20%|█▌      | 2/10 [00:01<00:04,  1.61trial/s, best loss: -0.5087868120949315]\r",
      " 30%|██▍     | 3/10 [00:01<00:04,  1.62trial/s, best loss: -0.5127180960832022]\r",
      " 40%|███▏    | 4/10 [00:02<00:03,  1.56trial/s, best loss: -0.5140334200116349]\r",
      " 50%|████    | 5/10 [00:03<00:03,  1.56trial/s, best loss: -0.5140334200116349]\r",
      " 60%|████▊   | 6/10 [00:03<00:02,  1.47trial/s, best loss: -0.5140334200116349]\r",
      " 70%|█████▌  | 7/10 [00:04<00:01,  1.50trial/s, best loss: -0.5140334200116349]\r",
      " 80%|██████▍ | 8/10 [00:05<00:01,  1.54trial/s, best loss: -0.5140334200116349]\r",
      " 90%|███████▏| 9/10 [00:05<00:00,  1.57trial/s, best loss: -0.5140334200116349]\r",
      "100%|███████| 10/10 [00:06<00:00,  1.60trial/s, best loss: -0.5144186202969583]\r",
      "100%|███████| 10/10 [00:06<00:00,  1.55trial/s, best loss: -0.5144186202969583]R2 score: 0.4803667195126011"
     ]
    }
   ],
   "source": [
    "# pipeline 2\n",
    "pipeline    = PCA() >> Tree()\n",
    "trainedhopt = pipeline.auto_configure(train_X, train_y, optimizer=Hyperopt,      cv=3, max_evals=10, verbose=true)\n",
    "predicted   = trainedhopt.predict(test_X);\n",
    "print(\"R2 score: \",sk.metrics.r2_score(test_y, predicted))"
   ]
  },
  {
   "cell_type": "code",
   "execution_count": 17,
   "metadata": {},
   "outputs": [
    {
     "name": "stdout",
     "output_type": "stream",
     "text": [
      "\n",
      "\r",
      "  0%|                                    | 0/3 [00:00<?, ?trial/s, best loss=?]\r",
      " 33%|███▎      | 1/3 [00:01<00:02,  1.07s/trial, best loss: -0.601749479881145]\r",
      " 67%|██████   | 2/3 [00:01<00:00,  1.19trial/s, best loss: -0.6110613494521347]\r",
      "100%|█████████| 3/3 [00:01<00:00,  1.42trial/s, best loss: -0.6110613494521347]\r",
      "100%|█████████| 3/3 [00:01<00:00,  1.71trial/s, best loss: -0.6110613494521347]R2 score: 0.575751075388504"
     ]
    }
   ],
   "source": [
    "# pipeline 3\n",
    "planned    = (PCA() + NoOp())   >>  (LinReg() | Tree())\n",
    "trained    = planned.auto_configure(train_X, train_y, optimizer=Hyperopt, cv=3,  max_evals=3, verbose=true)\n",
    "predicted  = trained.predict(test_X);\n",
    "print(\"R2 score: \",sk.metrics.r2_score(test_y, predicted))"
   ]
  },
  {
   "cell_type": "code",
   "execution_count": 18,
   "metadata": {},
   "outputs": [
    {
     "name": "stdout",
     "output_type": "stream",
     "text": [
      "\n",
      "\r",
      "  0%|                                    | 0/5 [00:00<?, ?trial/s, best loss=?]\r",
      " 20%|█▊       | 1/5 [00:01<00:04,  1.02s/trial, best loss: -0.5813302250875374]\r",
      " 40%|███▌     | 2/5 [00:02<00:03,  1.02s/trial, best loss: -0.5813302250875374]\r",
      " 60%|█████▍   | 3/5 [00:03<00:02,  1.04s/trial, best loss: -0.5813302250875374]\r",
      " 80%|███████▏ | 4/5 [00:04<00:01,  1.04s/trial, best loss: -0.5813302250875374]\r",
      "100%|█████████| 5/5 [00:05<00:00,  1.08s/trial, best loss: -0.5813302250875374]\r",
      "100%|█████████| 5/5 [00:05<00:00,  1.07s/trial, best loss: -0.5813302250875374]R2 score: 0.5625205708723776"
     ]
    }
   ],
   "source": [
    "# pipeline 5\n",
    "pipeline    = ((PCA(svd_solver=\"auto\") + ICA()) ) >> Tree()\n",
    "trainedgrid = pipeline.auto_configure(train_X, train_y, optimizer=Hyperopt,      max_evals=5, cv=3,verbose=true)\n",
    "predicted   = trainedgrid.predict(test_X);\n",
    "print(\"R2 score: \",sk.metrics.r2_score(test_y, predicted))"
   ]
  },
  {
   "cell_type": "code",
   "execution_count": null,
   "metadata": {},
   "outputs": [],
   "source": []
  }
 ],
 "metadata": {
  "kernelspec": {
   "display_name": "Julia 1.6.0-rc1",
   "language": "julia",
   "name": "julia-1.6"
  },
  "language_info": {
   "file_extension": ".jl",
   "mimetype": "application/julia",
   "name": "julia",
   "version": "1.6.0"
  }
 },
 "nbformat": 4,
 "nbformat_minor": 4
}
